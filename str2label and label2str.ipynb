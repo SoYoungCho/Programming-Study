{
 "cells": [
  {
   "cell_type": "code",
   "execution_count": 2,
   "metadata": {},
   "outputs": [
    {
     "data": {
      "text/html": [
       "<div>\n",
       "<style scoped>\n",
       "    .dataframe tbody tr th:only-of-type {\n",
       "        vertical-align: middle;\n",
       "    }\n",
       "\n",
       "    .dataframe tbody tr th {\n",
       "        vertical-align: top;\n",
       "    }\n",
       "\n",
       "    .dataframe thead th {\n",
       "        text-align: right;\n",
       "    }\n",
       "</style>\n",
       "<table border=\"1\" class=\"dataframe\">\n",
       "  <thead>\n",
       "    <tr style=\"text-align: right;\">\n",
       "      <th></th>\n",
       "      <th>id</th>\n",
       "      <th>char</th>\n",
       "      <th>freq</th>\n",
       "    </tr>\n",
       "  </thead>\n",
       "  <tbody>\n",
       "    <tr>\n",
       "      <th>0</th>\n",
       "      <td>0</td>\n",
       "      <td></td>\n",
       "      <td>5774462</td>\n",
       "    </tr>\n",
       "    <tr>\n",
       "      <th>1</th>\n",
       "      <td>1</td>\n",
       "      <td>.</td>\n",
       "      <td>640924</td>\n",
       "    </tr>\n",
       "    <tr>\n",
       "      <th>2</th>\n",
       "      <td>2</td>\n",
       "      <td>그</td>\n",
       "      <td>556373</td>\n",
       "    </tr>\n",
       "    <tr>\n",
       "      <th>3</th>\n",
       "      <td>3</td>\n",
       "      <td>이</td>\n",
       "      <td>509291</td>\n",
       "    </tr>\n",
       "    <tr>\n",
       "      <th>4</th>\n",
       "      <td>4</td>\n",
       "      <td>는</td>\n",
       "      <td>374559</td>\n",
       "    </tr>\n",
       "  </tbody>\n",
       "</table>\n",
       "</div>"
      ],
      "text/plain": [
       "   id char     freq\n",
       "0   0       5774462\n",
       "1   1    .   640924\n",
       "2   2    그   556373\n",
       "3   3    이   509291\n",
       "4   4    는   374559"
      ]
     },
     "execution_count": 2,
     "metadata": {},
     "output_type": "execute_result"
    }
   ],
   "source": [
    "import pandas as pd\n",
    "\n",
    "data = pd.read_csv('kai_labels.csv', encoding = 'utf-8') #한글 글자별 레이블이 부여된 csv 파일\n",
    "data.head()"
   ]
  },
  {
   "cell_type": "code",
   "execution_count": 8,
   "metadata": {},
   "outputs": [],
   "source": [
    "def head(list_):\n",
    "    print(list_[:5])"
   ]
  },
  {
   "cell_type": "code",
   "execution_count": 16,
   "metadata": {},
   "outputs": [
    {
     "name": "stdout",
     "output_type": "stream",
     "text": [
      "[' ', '.', '그', '이', '는']\n",
      "[0, 1, 2, 3, 4]\n"
     ]
    }
   ],
   "source": [
    "ch_list = list(data['char']) #모든 글자가 담긴 리스트\n",
    "idx_list = list(data['id']) #모든 id(레이블)이 담긴 리스트\n",
    "head(ch_list)\n",
    "head(id_list)"
   ]
  },
  {
   "cell_type": "code",
   "execution_count": 84,
   "metadata": {},
   "outputs": [
    {
     "name": "stdout",
     "output_type": "stream",
     "text": [
      "10\n",
      "지\n"
     ]
    }
   ],
   "source": [
    "idx2char = dict() #id - char에 해당되는 dictionary\n",
    "char2idx = dict() #char - id에 해당되는 dictionary\n",
    "for idx, char in  zip(idx_list, ch_list):\n",
    "    idx2char[idx] = char\n",
    "    char2idx[char] = idx \n",
    "\n",
    "print(char2idx['지']) #글자 '지'의 레이블은 10\n",
    "print(idx2char[10]) #id : 10의 글자는 '지'"
   ]
  },
  {
   "cell_type": "code",
   "execution_count": 49,
   "metadata": {},
   "outputs": [],
   "source": [
    "def string2label(test): #텍스트를 레이블로 바꾸는 함수\n",
    "    id_str = str()\n",
    "    for idx, ch in enumerate(test):\n",
    "        id_str += str(char2idx[ch])\n",
    "        if idx !=  len(test)-1:\n",
    "            id_str += \" \"\n",
    "    return id_str"
   ]
  },
  {
   "cell_type": "code",
   "execution_count": 81,
   "metadata": {},
   "outputs": [],
   "source": [
    "def label2string(label): #레이블을 텍스트로 바꾸는 함수\n",
    "    label_str = str()\n",
    "    idxs = label.split(\" \")\n",
    "    for ch in idxs:\n",
    "        if ch.isnumeric():\n",
    "            label_str += idx2char[int(ch)]\n",
    "    return label_str"
   ]
  },
  {
   "cell_type": "code",
   "execution_count": 86,
   "metadata": {},
   "outputs": [
    {
     "name": "stdout",
     "output_type": "stream",
     "text": [
      "test :  안녕하세요! 만나서 반갑습니다! 저는 코딩을 열심히 공부할거에요\n",
      "텍스트를 레이블로 변환:  37 960 14 163 69 676 0 46 13 16 0 215 308 368 20 15 676 0 127 4 0 345 523 28 0 228 200 110 0 143 90 91 9 17 69\n",
      "레이블을 텍스트롤 변환:  안녕하세요! 만나서 반갑습니다! 저는 코딩을 열심히 공부할거에요\n"
     ]
    }
   ],
   "source": [
    "text = \"안녕하세요! 만나서 반갑습니다! 저는 코딩을 열심히 공부할거에요\"\n",
    "\n",
    "print(\"test : \",text)\n",
    "print(\"텍스트를 레이블로 변환: \", string2label(text))\n",
    "label = string2label(test)\n",
    "print(\"레이블을 텍스트롤 변환: \", label2string(label))"
   ]
  },
  {
   "cell_type": "code",
   "execution_count": null,
   "metadata": {},
   "outputs": [],
   "source": []
  }
 ],
 "metadata": {
  "kernelspec": {
   "display_name": "Python 3",
   "language": "python",
   "name": "python3"
  },
  "language_info": {
   "codemirror_mode": {
    "name": "ipython",
    "version": 3
   },
   "file_extension": ".py",
   "mimetype": "text/x-python",
   "name": "python",
   "nbconvert_exporter": "python",
   "pygments_lexer": "ipython3",
   "version": "3.7.5"
  }
 },
 "nbformat": 4,
 "nbformat_minor": 2
}
